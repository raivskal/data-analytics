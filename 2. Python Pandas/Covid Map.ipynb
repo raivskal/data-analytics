{
 "cells": [
  {
   "cell_type": "code",
   "execution_count": 31,
   "id": "electoral-frontier",
   "metadata": {},
   "outputs": [],
   "source": [
    "import pandas as pd\n",
    "import plotly.express as px\n",
    "import plotly.graph_objects as go"
   ]
  },
  {
   "cell_type": "code",
   "execution_count": 32,
   "id": "prescription-profile",
   "metadata": {},
   "outputs": [],
   "source": [
    "df = pd.read_csv(\"covid-latest.csv\")"
   ]
  },
  {
   "cell_type": "code",
   "execution_count": 33,
   "id": "amateur-circular",
   "metadata": {},
   "outputs": [],
   "source": [
    "cases_per_country = df[(df['total_cases'].notna()) & (df['iso_code'].apply(len) == 3) ]\n",
    "cases_per_country = cases_per_country[['total_cases', 'location']]\n",
    "cases_per_country.reset_index(drop=True, inplace=True)"
   ]
  },
  {
   "cell_type": "code",
   "execution_count": 46,
   "id": "clear-emperor",
   "metadata": {},
   "outputs": [],
   "source": [
    "fig = go.Figure(data=go.Choropleth(\n",
    "    locationmode = \"country names\",\n",
    "    locations = cases_per_country['location'],\n",
    "    z = cases_per_country['total_cases'],\n",
    "    text = cases_per_country['total_cases'],\n",
    "    colorscale = 'Reds',\n",
    "    colorbar_title = 'Reported Covid-19 Cases',\n",
    "))\n",
    "\n",
    "fig.update_layout(\n",
    "    title_text='Reported Covid-19 Cases',\n",
    "    geo=dict(\n",
    "        showcoastlines=True,\n",
    "    ),\n",
    ")\n",
    "\n",
    "fig.write_html('Covid_19_World_Map.html', auto_open=True)"
   ]
  }
 ],
 "metadata": {
  "kernelspec": {
   "display_name": "Python 3",
   "language": "python",
   "name": "python3"
  },
  "language_info": {
   "codemirror_mode": {
    "name": "ipython",
    "version": 3
   },
   "file_extension": ".py",
   "mimetype": "text/x-python",
   "name": "python",
   "nbconvert_exporter": "python",
   "pygments_lexer": "ipython3",
   "version": "3.8.5"
  }
 },
 "nbformat": 4,
 "nbformat_minor": 5
}
